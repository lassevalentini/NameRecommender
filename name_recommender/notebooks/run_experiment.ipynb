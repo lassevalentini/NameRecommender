{
 "metadata": {
  "language_info": {
   "codemirror_mode": {
    "name": "ipython",
    "version": 3
   },
   "file_extension": ".py",
   "mimetype": "text/x-python",
   "name": "python",
   "nbconvert_exporter": "python",
   "pygments_lexer": "ipython3",
   "version": "3.6.2-final"
  },
  "orig_nbformat": 2,
  "kernelspec": {
   "name": "python3",
   "display_name": "Python 3.6.2 64-bit ('name_recommender': conda)",
   "metadata": {
    "interpreter": {
     "hash": "2dbc076b2f072a164de29d01ee8fe2ac43766932a9605a74e7e40a7c1d40cfaf"
    }
   }
  }
 },
 "nbformat": 4,
 "nbformat_minor": 2,
 "cells": [
  {
   "cell_type": "code",
   "execution_count": 1,
   "metadata": {},
   "outputs": [],
   "source": [
    "%load_ext autoreload\n",
    "%autoreload"
   ]
  },
  {
   "cell_type": "code",
   "execution_count": 1,
   "metadata": {},
   "outputs": [],
   "source": [
    "from azureml.core import Experiment\n",
    "from azureml.core import ScriptRunConfig\n",
    "from azureml.core import Environment\n",
    "from azureml.core import Workspace\n",
    "from name_recommender.datasets import allowed_names, name_sentiments"
   ]
  },
  {
   "cell_type": "code",
   "execution_count": 2,
   "metadata": {},
   "outputs": [],
   "source": [
    "ws = Workspace.from_config()"
   ]
  },
  {
   "cell_type": "code",
   "execution_count": null,
   "metadata": {},
   "outputs": [],
   "source": [
    "experiment = Experiment(workspace=ws, name=\"Names-lstm\")\n",
    "environment = Environment.get(workspace=ws, name=\"name-env.yml\")\n",
    "\n",
    "# script_arguments = [\n",
    "#     \"--allowed-names\", allowed_names.get_dataset(ws).as_named_input('allowed_names'), \n",
    "#     \"--name-sentiments\", name_sentiments.get_dataset(ws).as_named_input('name_sentiments') \n",
    "# ]\n",
    "config = ScriptRunConfig(source_directory=\"../../\", \n",
    "                      script='name_recommender/pipeline/train_model.py', \n",
    "                    #   arguments=script_arguments,\n",
    "                      compute_target = \"cpu-cluster\",\n",
    "                      environment = environment)"
   ]
  },
  {
   "cell_type": "code",
   "execution_count": null,
   "metadata": {},
   "outputs": [],
   "source": [
    "run = experiment.submit(config)"
   ]
  },
  {
   "cell_type": "code",
   "execution_count": null,
   "metadata": {},
   "outputs": [],
   "source": []
  },
  {
   "cell_type": "code",
   "execution_count": 8,
   "metadata": {},
   "outputs": [],
   "source": [
    "experiment = Experiment(workspace=ws, name=\"gpt-adjust\")\n",
    "environment = Environment.get(workspace=ws, name=\"gpt-env.yml\")\n",
    "\n",
    "script_arguments = [\n",
    "    \"--model_name_or_path\", \"gpt2\",\n",
    "    \"--train_file\", \"alle-godkendte-drengenavne-per-2020-12-09.csv\",\n",
    "    \"--do_train\",\n",
    "    \"--output_dir\", \"outputs\",\n",
    "]\n",
    "config = ScriptRunConfig(source_directory=\"../../\", \n",
    "                      script='name_recommender/pipeline/tune_gpt_2.py', \n",
    "                      arguments=script_arguments,\n",
    "                      compute_target = \"local\",\n",
    "                      environment = environment)\n",
    "run = experiment.submit(config)"
   ]
  },
  {
   "cell_type": "code",
   "execution_count": 9,
   "metadata": {},
   "outputs": [
    {
     "output_type": "stream",
     "name": "stdout",
     "text": [
      "RunId: gpt-adjust_1615906508_2e43b7e5\n",
      "Web View: https://ml.azure.com/experiments/gpt-adjust/runs/gpt-adjust_1615906508_2e43b7e5?wsid=/subscriptions/240a0227-6b04-462c-8c7e-aa091a2a336b/resourcegroups/aml-workspace/workspaces/lvj-aml\n",
      "\n",
      "Streaming azureml-logs/70_driver_log.txt\n",
      "========================================\n",
      "\n",
      "[2021-03-16T14:55:14.203354] Entering context manager injector.\n",
      "[context_manager_injector.py] Command line Options: Namespace(inject=['ProjectPythonPath:context_managers.ProjectPythonPath', 'RunHistory:context_managers.RunHistory', 'TrackUserError:context_managers.TrackUserError'], invocation=['name_recommender/pipeline/tune_gpt_2.py', '--model_name_or_path', 'gpt2--train_file', 'alle-godkendte-drengenavne-per-2020-12-09.csv--do_train', '--output_dir', 'outputs'])\n",
      "Script type = None\n",
      "Starting the daemon thread to refresh tokens in background for process with pid = 13672\n",
      "[2021-03-16T14:55:15.903084] Entering Run History Context Manager.\n",
      "[2021-03-16T14:55:17.776571] Current directory: C:\\Users\\LASSEV~1\\AppData\\Local\\Temp\\azureml_runs\\gpt-adjust_1615906508_2e43b7e5\n",
      "[2021-03-16T14:55:17.776571] Preparing to call script [name_recommender/pipeline/tune_gpt_2.py] with arguments:['--model_name_or_path', 'gpt2--train_file', 'alle-godkendte-drengenavne-per-2020-12-09.csv--do_train', '--output_dir', 'outputs']\n",
      "[2021-03-16T14:55:17.776571] After variable expansion, calling script [name_recommender/pipeline/tune_gpt_2.py] with arguments:['--model_name_or_path', 'gpt2--train_file', 'alle-godkendte-drengenavne-per-2020-12-09.csv--do_train', '--output_dir', 'outputs']\n",
      "\n",
      "None of PyTorch, TensorFlow >= 2.0, or Flax have been found. Models won't be available and only tokenizers, configuration and file/data utilities can be used.\n",
      "Starting the daemon thread to refresh tokens in background for process with pid = 13672\n",
      "[2021-03-16T14:55:18.977334] Reloading <module '__main__' from 'name_recommender/pipeline/tune_gpt_2.py'> failed: module __main__ not in sys.modules.\n",
      "\n",
      "\n",
      "[2021-03-16T14:55:18.978336] The experiment failed. Finalizing run...\n",
      "[2021-03-16T14:55:18.978336] Start FinalizingInRunHistory\n",
      "[2021-03-16T14:55:18.978336] Logging experiment finalizing status in history service.\n",
      "Starting the daemon thread to refresh tokens in background for process with pid = 13672\n",
      "Cleaning up all outstanding Run operations, waiting 300.0 seconds\n",
      "3 items cleaning up...\n",
      "Cleanup took 0.6389944553375244 seconds\n",
      "Traceback (most recent call last):\n",
      "  File \"name_recommender/pipeline/tune_gpt_2.py\", line 53, in <module>\n",
      "    MODEL_CONFIG_CLASSES = list(MODEL_FOR_CAUSAL_LM_MAPPING.keys())\n",
      "AttributeError: 'NoneType' object has no attribute 'keys'\n",
      "\n",
      "[2021-03-16T14:55:21.074016] Finished context manager injector with Exception.\n",
      "\n",
      "Execution Summary\n",
      "=================\n",
      "RunId: gpt-adjust_1615906508_2e43b7e5\n",
      "Web View: https://ml.azure.com/experiments/gpt-adjust/runs/gpt-adjust_1615906508_2e43b7e5?wsid=/subscriptions/240a0227-6b04-462c-8c7e-aa091a2a336b/resourcegroups/aml-workspace/workspaces/lvj-aml\n"
     ]
    },
    {
     "output_type": "error",
     "ename": "ActivityFailedException",
     "evalue": "ActivityFailedException:\n\tMessage: Activity Failed:\n{\n    \"error\": {\n        \"code\": \"UserError\",\n        \"message\": \"Local execution of User Script failed. Details can be found in azureml-logs/60_control_log.txt log file.\",\n        \"messageParameters\": {},\n        \"details\": []\n    },\n    \"time\": \"0001-01-01T00:00:00.000Z\"\n}\n\tInnerException None\n\tErrorResponse \n{\n    \"error\": {\n        \"message\": \"Activity Failed:\\n{\\n    \\\"error\\\": {\\n        \\\"code\\\": \\\"UserError\\\",\\n        \\\"message\\\": \\\"Local execution of User Script failed. Details can be found in azureml-logs/60_control_log.txt log file.\\\",\\n        \\\"messageParameters\\\": {},\\n        \\\"details\\\": []\\n    },\\n    \\\"time\\\": \\\"0001-01-01T00:00:00.000Z\\\"\\n}\"\n    }\n}",
     "traceback": [
      "\u001b[1;31m---------------------------------------------------------------------------\u001b[0m",
      "\u001b[1;31mActivityFailedException\u001b[0m                   Traceback (most recent call last)",
      "\u001b[1;32m<ipython-input-9-d318635ec646>\u001b[0m in \u001b[0;36m<module>\u001b[1;34m\u001b[0m\n\u001b[1;32m----> 1\u001b[1;33m \u001b[0mrun\u001b[0m\u001b[1;33m.\u001b[0m\u001b[0mwait_for_completion\u001b[0m\u001b[1;33m(\u001b[0m\u001b[1;32mTrue\u001b[0m\u001b[1;33m)\u001b[0m\u001b[1;33m\u001b[0m\u001b[0m\n\u001b[0m",
      "\u001b[1;32m~\\miniconda3\\envs\\name_recommender\\lib\\site-packages\\azureml\\core\\run.py\u001b[0m in \u001b[0;36mwait_for_completion\u001b[1;34m(self, show_output, wait_post_processing, raise_on_error)\u001b[0m\n\u001b[0;32m    786\u001b[0m                     \u001b[0mfile_handle\u001b[0m\u001b[1;33m=\u001b[0m\u001b[0msys\u001b[0m\u001b[1;33m.\u001b[0m\u001b[0mstdout\u001b[0m\u001b[1;33m,\u001b[0m\u001b[1;33m\u001b[0m\u001b[0m\n\u001b[0;32m    787\u001b[0m                     \u001b[0mwait_post_processing\u001b[0m\u001b[1;33m=\u001b[0m\u001b[0mwait_post_processing\u001b[0m\u001b[1;33m,\u001b[0m\u001b[1;33m\u001b[0m\u001b[0m\n\u001b[1;32m--> 788\u001b[1;33m                     raise_on_error=raise_on_error)\n\u001b[0m\u001b[0;32m    789\u001b[0m                 \u001b[1;32mreturn\u001b[0m \u001b[0mself\u001b[0m\u001b[1;33m.\u001b[0m\u001b[0mget_details\u001b[0m\u001b[1;33m(\u001b[0m\u001b[1;33m)\u001b[0m\u001b[1;33m\u001b[0m\u001b[0m\n\u001b[0;32m    790\u001b[0m             \u001b[1;32mexcept\u001b[0m \u001b[0mKeyboardInterrupt\u001b[0m\u001b[1;33m:\u001b[0m\u001b[1;33m\u001b[0m\u001b[0m\n",
      "\u001b[1;32m~\\miniconda3\\envs\\name_recommender\\lib\\site-packages\\azureml\\core\\run.py\u001b[0m in \u001b[0;36m_stream_run_output\u001b[1;34m(self, file_handle, wait_post_processing, raise_on_error)\u001b[0m\n\u001b[0;32m   1027\u001b[0m                 \u001b[0mfile_handle\u001b[0m\u001b[1;33m.\u001b[0m\u001b[0mwrite\u001b[0m\u001b[1;33m(\u001b[0m\u001b[1;34m\"\\n\"\u001b[0m\u001b[1;33m)\u001b[0m\u001b[1;33m\u001b[0m\u001b[0m\n\u001b[0;32m   1028\u001b[0m             \u001b[1;32melse\u001b[0m\u001b[1;33m:\u001b[0m\u001b[1;33m\u001b[0m\u001b[0m\n\u001b[1;32m-> 1029\u001b[1;33m                 \u001b[1;32mraise\u001b[0m \u001b[0mActivityFailedException\u001b[0m\u001b[1;33m(\u001b[0m\u001b[0merror_details\u001b[0m\u001b[1;33m=\u001b[0m\u001b[0mjson\u001b[0m\u001b[1;33m.\u001b[0m\u001b[0mdumps\u001b[0m\u001b[1;33m(\u001b[0m\u001b[0merror\u001b[0m\u001b[1;33m,\u001b[0m \u001b[0mindent\u001b[0m\u001b[1;33m=\u001b[0m\u001b[1;36m4\u001b[0m\u001b[1;33m)\u001b[0m\u001b[1;33m)\u001b[0m\u001b[1;33m\u001b[0m\u001b[0m\n\u001b[0m\u001b[0;32m   1030\u001b[0m \u001b[1;33m\u001b[0m\u001b[0m\n\u001b[0;32m   1031\u001b[0m         \u001b[0mfile_handle\u001b[0m\u001b[1;33m.\u001b[0m\u001b[0mwrite\u001b[0m\u001b[1;33m(\u001b[0m\u001b[1;34m\"\\n\"\u001b[0m\u001b[1;33m)\u001b[0m\u001b[1;33m\u001b[0m\u001b[0m\n",
      "\u001b[1;31mActivityFailedException\u001b[0m: ActivityFailedException:\n\tMessage: Activity Failed:\n{\n    \"error\": {\n        \"code\": \"UserError\",\n        \"message\": \"Local execution of User Script failed. Details can be found in azureml-logs/60_control_log.txt log file.\",\n        \"messageParameters\": {},\n        \"details\": []\n    },\n    \"time\": \"0001-01-01T00:00:00.000Z\"\n}\n\tInnerException None\n\tErrorResponse \n{\n    \"error\": {\n        \"message\": \"Activity Failed:\\n{\\n    \\\"error\\\": {\\n        \\\"code\\\": \\\"UserError\\\",\\n        \\\"message\\\": \\\"Local execution of User Script failed. Details can be found in azureml-logs/60_control_log.txt log file.\\\",\\n        \\\"messageParameters\\\": {},\\n        \\\"details\\\": []\\n    },\\n    \\\"time\\\": \\\"0001-01-01T00:00:00.000Z\\\"\\n}\"\n    }\n}"
     ]
    }
   ],
   "source": [
    "run.wait_for_completion(True)"
   ]
  },
  {
   "cell_type": "code",
   "execution_count": null,
   "metadata": {},
   "outputs": [],
   "source": []
  }
 ]
}