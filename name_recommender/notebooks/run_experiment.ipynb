{
 "metadata": {
  "language_info": {
   "codemirror_mode": {
    "name": "ipython",
    "version": 3
   },
   "file_extension": ".py",
   "mimetype": "text/x-python",
   "name": "python",
   "nbconvert_exporter": "python",
   "pygments_lexer": "ipython3",
   "version": "3.6.2-final"
  },
  "orig_nbformat": 2,
  "kernelspec": {
   "name": "python3",
   "display_name": "Python 3.6.2 64-bit ('name_recommender': conda)",
   "metadata": {
    "interpreter": {
     "hash": "10fdfa3adfb7f9c6dc2165beb3bc0f5f29054aa92a00d3b501ff346fa4ac5d9a"
    }
   }
  }
 },
 "nbformat": 4,
 "nbformat_minor": 2,
 "cells": [
  {
   "cell_type": "code",
   "execution_count": null,
   "metadata": {},
   "outputs": [],
   "source": [
    "%load_ext autoreload\n",
    "%autoreload"
   ]
  },
  {
   "cell_type": "code",
   "execution_count": null,
   "metadata": {},
   "outputs": [],
   "source": [
    "from azureml.core import Experiment\n",
    "from azureml.core import ScriptRunConfig\n",
    "from azureml.core import Environment\n",
    "from azureml.core import Workspace\n",
    "from name_recommender.datasets import allowed_names, name_sentiments"
   ]
  },
  {
   "cell_type": "code",
   "execution_count": null,
   "metadata": {},
   "outputs": [],
   "source": [
    "ws = Workspace.from_config()"
   ]
  },
  {
   "cell_type": "code",
   "execution_count": null,
   "metadata": {},
   "outputs": [],
   "source": [
    "experiment = Experiment(workspace=ws, name=\"Names-lstm\")\n",
    "environment = Environment.get(workspace=ws, name=\"name-env.yml\")\n",
    "\n",
    "# script_arguments = [\n",
    "#     \"--allowed-names\", allowed_names.get_dataset(ws).as_named_input('allowed_names'), \n",
    "#     \"--name-sentiments\", name_sentiments.get_dataset(ws).as_named_input('name_sentiments') \n",
    "# ]\n",
    "config = ScriptRunConfig(source_directory=\"../../\", \n",
    "                      script='name_recommender/pipeline/train_model.py', \n",
    "                    #   arguments=script_arguments,\n",
    "                      compute_target = \"cpu-cluster\",\n",
    "                      environment = environment)"
   ]
  },
  {
   "cell_type": "code",
   "execution_count": null,
   "metadata": {},
   "outputs": [],
   "source": [
    "run = experiment.submit(config)"
   ]
  },
  {
   "cell_type": "code",
   "execution_count": null,
   "metadata": {},
   "outputs": [],
   "source": []
  }
 ]
}