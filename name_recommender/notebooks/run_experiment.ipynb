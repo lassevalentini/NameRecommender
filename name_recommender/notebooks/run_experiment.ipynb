{
 "metadata": {
  "language_info": {
   "codemirror_mode": {
    "name": "ipython",
    "version": 3
   },
   "file_extension": ".py",
   "mimetype": "text/x-python",
   "name": "python",
   "nbconvert_exporter": "python",
   "pygments_lexer": "ipython3",
   "version": "3.6.2-final"
  },
  "orig_nbformat": 2,
  "kernelspec": {
   "name": "python3",
   "display_name": "Python 3.6.2 64-bit ('name_recommender': conda)",
   "metadata": {
    "interpreter": {
     "hash": "2dbc076b2f072a164de29d01ee8fe2ac43766932a9605a74e7e40a7c1d40cfaf"
    }
   }
  }
 },
 "nbformat": 4,
 "nbformat_minor": 2,
 "cells": [
  {
   "cell_type": "code",
   "execution_count": null,
   "metadata": {},
   "outputs": [],
   "source": []
  },
  {
   "cell_type": "code",
   "execution_count": 5,
   "metadata": {},
   "outputs": [],
   "source": [
    "from azureml.core import Experiment\n",
    "from azureml.core import ScriptRunConfig\n",
    "from azureml.core import Environment\n",
    "from azureml.core import Workspace\n",
    "from name_recommender.datasets import allowed_names, name_sentiments"
   ]
  },
  {
   "cell_type": "code",
   "execution_count": 10,
   "metadata": {},
   "outputs": [
    {
     "output_type": "execute_result",
     "data": {
      "text/plain": [
       "dict_keys(['AzureML-AutoML', 'AzureML-PyTorch-1.0-GPU', 'AzureML-Scikit-learn-0.20.3', 'AzureML-TensorFlow-1.12-CPU', 'AzureML-PyTorch-1.2-GPU', 'AzureML-TensorFlow-2.0-GPU', 'AzureML-TensorFlow-2.0-CPU', 'AzureML-Chainer-5.1.0-GPU', 'AzureML-TensorFlow-1.13-CPU', 'AzureML-Minimal', 'AzureML-Chainer-5.1.0-CPU', 'AzureML-PyTorch-1.4-GPU', 'AzureML-PySpark-MmlSpark-0.15', 'AzureML-PyTorch-1.3-CPU', 'AzureML-PyTorch-1.1-GPU', 'AzureML-TensorFlow-1.10-GPU', 'AzureML-PyTorch-1.2-CPU', 'AzureML-TensorFlow-1.13-GPU', 'AzureML-TensorFlow-1.10-CPU', 'AzureML-PyTorch-1.3-GPU', 'AzureML-PyTorch-1.4-CPU', 'AzureML-Tutorial', 'AzureML-PyTorch-1.0-CPU', 'AzureML-PyTorch-1.1-CPU', 'AzureML-TensorFlow-1.12-GPU', 'AzureML-VowpalWabbit-8.8.0', 'AzureML-Designer-VowpalWabbit', 'AzureML-TensorFlow-2.2-GPU', 'AzureML-TensorFlow-2.2-CPU', 'AzureML-PyTorch-1.6-CPU', 'AzureML-PyTorch-1.6-GPU', 'AzureML-Triton', 'AzureML-TensorFlow-2.3-CPU', 'AzureML-TensorFlow-2.3-GPU', 'AzureML-DeepSpeed-0.3-GPU', 'AzureML-Sidecar', 'AzureML-Dask-CPU', 'AzureML-Dask-GPU', 'AzureML-TensorFlow-2.1-GPU', 'AzureML-PyTorch-1.5-GPU', 'AzureML-PyTorch-1.5-CPU', 'AzureML-TensorFlow-2.1-CPU', 'AzureML-AutoML-DNN-Vision-GPU', 'AzureML-Hyperdrive-ForecastDNN', 'AzureML-AutoML-DNN', 'AzureML-AutoML-DNN-GPU', 'AzureML-AutoML-GPU', 'AzureML-Designer-Score', 'AzureML-Designer-PyTorch-Train', 'AzureML-Designer-IO', 'AzureML-Designer-Transform', 'AzureML-Designer-Recommender', 'AzureML-Designer-CV', 'AzureML-Designer-NLP', 'AzureML-Designer-PyTorch', 'AzureML-Designer-CV-Transform', 'AzureML-Designer', 'AzureML-Designer-R'])"
      ]
     },
     "metadata": {},
     "execution_count": 10
    }
   ],
   "source": [
    "ws.environments.keys()"
   ]
  },
  {
   "cell_type": "code",
   "execution_count": 11,
   "metadata": {},
   "outputs": [
    {
     "output_type": "error",
     "ename": "NameError",
     "evalue": "name 'dataset' is not defined",
     "traceback": [
      "\u001b[1;31m---------------------------------------------------------------------------\u001b[0m",
      "\u001b[1;31mNameError\u001b[0m                                 Traceback (most recent call last)",
      "\u001b[1;32m<ipython-input-11-2589433c150a>\u001b[0m in \u001b[0;36m<module>\u001b[1;34m\u001b[0m\n\u001b[0;32m      4\u001b[0m \u001b[1;33m\u001b[0m\u001b[0m\n\u001b[0;32m      5\u001b[0m script_arguments = [\n\u001b[1;32m----> 6\u001b[1;33m     \u001b[1;34m\"--allowed-names\"\u001b[0m\u001b[1;33m,\u001b[0m \u001b[0mdataset\u001b[0m\u001b[1;33m.\u001b[0m\u001b[0mas_named_input\u001b[0m\u001b[1;33m(\u001b[0m\u001b[1;34m'allowed_names'\u001b[0m\u001b[1;33m)\u001b[0m\u001b[1;33m,\u001b[0m\u001b[1;33m\u001b[0m\u001b[0m\n\u001b[0m\u001b[0;32m      7\u001b[0m     \u001b[1;34m\"--names-sentiments\"\u001b[0m\u001b[1;33m,\u001b[0m \u001b[0mdataset\u001b[0m\u001b[1;33m.\u001b[0m\u001b[0mas_named_input\u001b[0m\u001b[1;33m(\u001b[0m\u001b[1;34m'names_sentiments'\u001b[0m\u001b[1;33m)\u001b[0m\u001b[1;33m\u001b[0m\u001b[0m\n\u001b[0;32m      8\u001b[0m ]\n",
      "\u001b[1;31mNameError\u001b[0m: name 'dataset' is not defined"
     ]
    }
   ],
   "source": [
    "ws = Workspace.from_config()\n",
    "exp = Experiment(workspace=ws, name=\"Names-lstm\")\n",
    "environment = Environment.get(workspace=ws, name=\"name-env.yml\", version=\"1\")\n",
    "\n",
    "script_arguments = [\n",
    "    \"--allowed-names\", ws.datasets['allowed_names'].as_named_input('allowed_names'), \n",
    "    \"--names-sentiments\", ws.datasets['names_sentiments'].as_named_input('names_sentiments') \n",
    "]\n",
    "config = ScriptRunConfig(source_directory=\"../\", \n",
    "                      script='pipeline/train_model.py', \n",
    "                      arguments=script_arguments,\n",
    "                      compute_target = \"cpu-cluster\",\n",
    "                      environment = environment)"
   ]
  },
  {
   "cell_type": "code",
   "execution_count": null,
   "metadata": {},
   "outputs": [],
   "source": [
    "run = experiment.submit(config)"
   ]
  }
 ]
}